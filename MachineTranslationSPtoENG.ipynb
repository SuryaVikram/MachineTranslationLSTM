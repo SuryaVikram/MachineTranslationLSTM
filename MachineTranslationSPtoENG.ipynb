{
  "nbformat": 4,
  "nbformat_minor": 0,
  "metadata": {
    "colab": {
      "name": "MachineTranslationSPtoENG.ipynb",
      "provenance": [],
      "collapsed_sections": [],
      "toc_visible": true,
      "authorship_tag": "ABX9TyOKkodImSjutuuD7PUV5lt2",
      "include_colab_link": true
    },
    "kernelspec": {
      "name": "python3",
      "display_name": "Python 3"
    }
  },
  "cells": [
    {
      "cell_type": "markdown",
      "metadata": {
        "id": "view-in-github",
        "colab_type": "text"
      },
      "source": [
        "<a href=\"https://colab.research.google.com/github/SuryaVikram/MachineTranslationLSTM/blob/master/MachineTranslationSPtoENG.ipynb\" target=\"_parent\"><img src=\"https://colab.research.google.com/assets/colab-badge.svg\" alt=\"Open In Colab\"/></a>"
      ]
    },
    {
      "cell_type": "code",
      "metadata": {
        "id": "Gbfn1KnRC6zB",
        "colab_type": "code",
        "colab": {}
      },
      "source": [
        "file = open(\"/spa.txt\", mode='rt', encoding='utf-8')"
      ],
      "execution_count": 0,
      "outputs": []
    },
    {
      "cell_type": "code",
      "metadata": {
        "id": "lOj2yQ-0FK-l",
        "colab_type": "code",
        "colab": {}
      },
      "source": [
        "text = file.read()"
      ],
      "execution_count": 0,
      "outputs": []
    },
    {
      "cell_type": "code",
      "metadata": {
        "id": "50I3kkJYFQOo",
        "colab_type": "code",
        "colab": {}
      },
      "source": [
        "sents = text.strip().split('\\n')"
      ],
      "execution_count": 0,
      "outputs": []
    },
    {
      "cell_type": "code",
      "metadata": {
        "id": "KcbuTzbKFlE3",
        "colab_type": "code",
        "outputId": "c46d20a8-ef5b-4415-8479-f5ed7740397f",
        "colab": {
          "base_uri": "https://localhost:8080/",
          "height": 54
        }
      },
      "source": [
        "sents[1]"
      ],
      "execution_count": 127,
      "outputs": [
        {
          "output_type": "execute_result",
          "data": {
            "text/plain": [
              "'Go.\\tVete.\\tCC-BY 2.0 (France) Attribution: tatoeba.org #2877272 (CM) & #4986656 (cueyayotl)'"
            ]
          },
          "metadata": {
            "tags": []
          },
          "execution_count": 127
        }
      ]
    },
    {
      "cell_type": "code",
      "metadata": {
        "id": "oI7erLKcSTy5",
        "colab_type": "code",
        "colab": {}
      },
      "source": [
        "import pandas as pd\n",
        "import numpy as np\n",
        "import re\n",
        "import warnings\n",
        "import unidecode\n",
        "from keras.preprocessing.sequence import pad_sequences\n",
        "from keras.layers import Input, LSTM, Embedding, Dense, Concatenate, TimeDistributed\n",
        "from keras.models import Model, load_model\n",
        "from keras.callbacks import EarlyStopping, ModelCheckpoint\n",
        "\n",
        "import matplotlib.pyplot as plt\n",
        "%matplotlib inline\n",
        "\n",
        "\n",
        "pd.set_option(\"display.max_colwidth\",200)\n",
        "warnings.filterwarnings(\"ignore\")"
      ],
      "execution_count": 0,
      "outputs": []
    },
    {
      "cell_type": "code",
      "metadata": {
        "id": "gOPYjfJOUzp7",
        "colab_type": "code",
        "colab": {}
      },
      "source": [
        "def read_text(filename):\n",
        "  file = open(filename,mode='rt',encoding='utf-8')\n",
        "  text = file.read()\n",
        "  file.close()\n",
        "  return text"
      ],
      "execution_count": 0,
      "outputs": []
    },
    {
      "cell_type": "code",
      "metadata": {
        "id": "6K3kuvvNVPWK",
        "colab_type": "code",
        "colab": {}
      },
      "source": [
        "def to_lines(text):\n",
        "  sents = text.strip().split(\"\\n\")\n",
        "  sents = [i.split(\"\\t\") for i in sents]\n",
        "  return sents"
      ],
      "execution_count": 0,
      "outputs": []
    },
    {
      "cell_type": "code",
      "metadata": {
        "id": "5wd-TxI5VPuI",
        "colab_type": "code",
        "colab": {}
      },
      "source": [
        "txt = read_text(\"/spa.txt\")"
      ],
      "execution_count": 0,
      "outputs": []
    },
    {
      "cell_type": "code",
      "metadata": {
        "id": "JES5zYljWk4j",
        "colab_type": "code",
        "colab": {}
      },
      "source": [
        "sp_eng = to_lines(txt)"
      ],
      "execution_count": 0,
      "outputs": []
    },
    {
      "cell_type": "code",
      "metadata": {
        "id": "HjCWQfAlWteh",
        "colab_type": "code",
        "colab": {
          "base_uri": "https://localhost:8080/",
          "height": 34
        },
        "outputId": "467c7c54-90f5-4ef2-e257-de95bd82a285"
      },
      "source": [
        "len(sp_eng)"
      ],
      "execution_count": 133,
      "outputs": [
        {
          "output_type": "execute_result",
          "data": {
            "text/plain": [
              "123770"
            ]
          },
          "metadata": {
            "tags": []
          },
          "execution_count": 133
        }
      ]
    },
    {
      "cell_type": "code",
      "metadata": {
        "id": "rfOHElauVQC-",
        "colab_type": "code",
        "colab": {}
      },
      "source": [
        "sp_eng = np.array(sp_eng)\n",
        "eng1=[]\n",
        "sp1=[]"
      ],
      "execution_count": 0,
      "outputs": []
    },
    {
      "cell_type": "code",
      "metadata": {
        "id": "OvRr_oSNXYFF",
        "colab_type": "code",
        "colab": {}
      },
      "source": [
        "eng1=sp_eng[:,0]\n",
        "sp1=sp_eng[:,1]"
      ],
      "execution_count": 0,
      "outputs": []
    },
    {
      "cell_type": "code",
      "metadata": {
        "id": "_P1ViYVLdSPc",
        "colab_type": "code",
        "colab": {}
      },
      "source": [
        "data=pd.DataFrame({'spa':sp1,'eng':eng1})"
      ],
      "execution_count": 0,
      "outputs": []
    },
    {
      "cell_type": "code",
      "metadata": {
        "id": "Nr43sZpieQrz",
        "colab_type": "code",
        "colab": {
          "base_uri": "https://localhost:8080/",
          "height": 459
        },
        "outputId": "d5288e5e-13b9-4825-aab5-f9f89ec59733"
      },
      "source": [
        "data.tail()"
      ],
      "execution_count": 137,
      "outputs": [
        {
          "output_type": "execute_result",
          "data": {
            "text/html": [
              "<div>\n",
              "<style scoped>\n",
              "    .dataframe tbody tr th:only-of-type {\n",
              "        vertical-align: middle;\n",
              "    }\n",
              "\n",
              "    .dataframe tbody tr th {\n",
              "        vertical-align: top;\n",
              "    }\n",
              "\n",
              "    .dataframe thead th {\n",
              "        text-align: right;\n",
              "    }\n",
              "</style>\n",
              "<table border=\"1\" class=\"dataframe\">\n",
              "  <thead>\n",
              "    <tr style=\"text-align: right;\">\n",
              "      <th></th>\n",
              "      <th>spa</th>\n",
              "      <th>eng</th>\n",
              "    </tr>\n",
              "  </thead>\n",
              "  <tbody>\n",
              "    <tr>\n",
              "      <th>123765</th>\n",
              "      <td>Hay cuatro causas principales de muertes relacionadas con el alcohol. Lesión por un accidente automovilístico o violencia es una. Enfermedades como cirrosis del hígado, cáncer, enfermedades del co...</td>\n",
              "      <td>There are four main causes of alcohol-related death. Injury from car accidents or violence is one. Diseases like cirrhosis of the liver, cancer, heart and blood system diseases are the others.</td>\n",
              "    </tr>\n",
              "    <tr>\n",
              "      <th>123766</th>\n",
              "      <td>Hay madres y padres que se quedan despiertos después de que sus hijos se hayan dormido y se preguntan cómo conseguir pagar la hipoteca o las facturas del médico, o cómo ahorrar el suficiente diner...</td>\n",
              "      <td>There are mothers and fathers who will lie awake after the children fall asleep and wonder how they'll make the mortgage, or pay their doctor's bills, or save enough for their child's college educ...</td>\n",
              "    </tr>\n",
              "    <tr>\n",
              "      <th>123767</th>\n",
              "      <td>Una huella de carbono es la cantidad de contaminación de dióxido de carbono que producimos como producto de nuestras actividades. Algunas personas intentan reducir su huella de carbono porque está...</td>\n",
              "      <td>A carbon footprint is the amount of carbon dioxide pollution that we produce as a result of our activities. Some people try to reduce their carbon footprint because they are concerned about climat...</td>\n",
              "    </tr>\n",
              "    <tr>\n",
              "      <th>123768</th>\n",
              "      <td>Como suele haber varias páginas web sobre cualquier tema, normalmente sólo le doy al botón de retroceso cuando entro en una página web que tiene anuncios en ventanas emergentes. Simplemente voy a ...</td>\n",
              "      <td>Since there are usually multiple websites on any given topic, I usually just click the back button when I arrive on any webpage that has pop-up advertising. I just go to the next page found by Goo...</td>\n",
              "    </tr>\n",
              "    <tr>\n",
              "      <th>123769</th>\n",
              "      <td>Si quieres sonar como un hablante nativo, debes estar dispuesto a practicar diciendo la misma frase una y otra vez de la misma manera en que un músico de banjo practica el mismo fraseo una y otra ...</td>\n",
              "      <td>If you want to sound like a native speaker, you must be willing to practice saying the same sentence over and over in the same way that banjo players practice the same phrase over and over until t...</td>\n",
              "    </tr>\n",
              "  </tbody>\n",
              "</table>\n",
              "</div>"
            ],
            "text/plain": [
              "                                                                                                                                                                                                            spa                                                                                                                                                                                                      eng\n",
              "123765  Hay cuatro causas principales de muertes relacionadas con el alcohol. Lesión por un accidente automovilístico o violencia es una. Enfermedades como cirrosis del hígado, cáncer, enfermedades del co...         There are four main causes of alcohol-related death. Injury from car accidents or violence is one. Diseases like cirrhosis of the liver, cancer, heart and blood system diseases are the others.\n",
              "123766  Hay madres y padres que se quedan despiertos después de que sus hijos se hayan dormido y se preguntan cómo conseguir pagar la hipoteca o las facturas del médico, o cómo ahorrar el suficiente diner...  There are mothers and fathers who will lie awake after the children fall asleep and wonder how they'll make the mortgage, or pay their doctor's bills, or save enough for their child's college educ...\n",
              "123767  Una huella de carbono es la cantidad de contaminación de dióxido de carbono que producimos como producto de nuestras actividades. Algunas personas intentan reducir su huella de carbono porque está...  A carbon footprint is the amount of carbon dioxide pollution that we produce as a result of our activities. Some people try to reduce their carbon footprint because they are concerned about climat...\n",
              "123768  Como suele haber varias páginas web sobre cualquier tema, normalmente sólo le doy al botón de retroceso cuando entro en una página web que tiene anuncios en ventanas emergentes. Simplemente voy a ...  Since there are usually multiple websites on any given topic, I usually just click the back button when I arrive on any webpage that has pop-up advertising. I just go to the next page found by Goo...\n",
              "123769  Si quieres sonar como un hablante nativo, debes estar dispuesto a practicar diciendo la misma frase una y otra vez de la misma manera en que un músico de banjo practica el mismo fraseo una y otra ...  If you want to sound like a native speaker, you must be willing to practice saying the same sentence over and over in the same way that banjo players practice the same phrase over and over until t..."
            ]
          },
          "metadata": {
            "tags": []
          },
          "execution_count": 137
        }
      ]
    },
    {
      "cell_type": "code",
      "metadata": {
        "id": "glLdMHtbeobq",
        "colab_type": "code",
        "colab": {}
      },
      "source": [
        "data.drop_duplicates(subset=['spa'],inplace=True)"
      ],
      "execution_count": 0,
      "outputs": []
    },
    {
      "cell_type": "code",
      "metadata": {
        "id": "-FA1qm47e1J7",
        "colab_type": "code",
        "colab": {}
      },
      "source": [
        "def cleaner(text):\n",
        "  newString = text.lower()\n",
        "  unaccentedString = unidecode.unidecode(newString)\n",
        "  newString = re.sub(\"'\",\"\",unaccentedString)\n",
        "  newString = re.sub(\"[^a-zA-Z]\",\" \",newString)\n",
        "  tokens = newString.split()\n",
        "  return (\" \".join(tokens)).strip() "
      ],
      "execution_count": 0,
      "outputs": []
    },
    {
      "cell_type": "code",
      "metadata": {
        "id": "Yhqng7UXhuov",
        "colab_type": "code",
        "colab": {}
      },
      "source": [
        "data['cleaned_eng'] = data[\"eng\"].apply(cleaner)\n",
        "data['cleaned_spa'] = data[\"spa\"].apply(cleaner)"
      ],
      "execution_count": 0,
      "outputs": []
    },
    {
      "cell_type": "code",
      "metadata": {
        "id": "tIDybOwCh-a8",
        "colab_type": "code",
        "colab": {
          "base_uri": "https://localhost:8080/",
          "height": 884
        },
        "outputId": "7e9f1976-a2c0-4003-a756-ba66d91ca680"
      },
      "source": [
        "data.tail()"
      ],
      "execution_count": 141,
      "outputs": [
        {
          "output_type": "execute_result",
          "data": {
            "text/html": [
              "<div>\n",
              "<style scoped>\n",
              "    .dataframe tbody tr th:only-of-type {\n",
              "        vertical-align: middle;\n",
              "    }\n",
              "\n",
              "    .dataframe tbody tr th {\n",
              "        vertical-align: top;\n",
              "    }\n",
              "\n",
              "    .dataframe thead th {\n",
              "        text-align: right;\n",
              "    }\n",
              "</style>\n",
              "<table border=\"1\" class=\"dataframe\">\n",
              "  <thead>\n",
              "    <tr style=\"text-align: right;\">\n",
              "      <th></th>\n",
              "      <th>spa</th>\n",
              "      <th>eng</th>\n",
              "      <th>cleaned_eng</th>\n",
              "      <th>cleaned_spa</th>\n",
              "    </tr>\n",
              "  </thead>\n",
              "  <tbody>\n",
              "    <tr>\n",
              "      <th>123765</th>\n",
              "      <td>Hay cuatro causas principales de muertes relacionadas con el alcohol. Lesión por un accidente automovilístico o violencia es una. Enfermedades como cirrosis del hígado, cáncer, enfermedades del co...</td>\n",
              "      <td>There are four main causes of alcohol-related death. Injury from car accidents or violence is one. Diseases like cirrhosis of the liver, cancer, heart and blood system diseases are the others.</td>\n",
              "      <td>there are four main causes of alcohol related death injury from car accidents or violence is one diseases like cirrhosis of the liver cancer heart and blood system diseases are the others</td>\n",
              "      <td>hay cuatro causas principales de muertes relacionadas con el alcohol lesion por un accidente automovilistico o violencia es una enfermedades como cirrosis del higado cancer enfermedades del corazo...</td>\n",
              "    </tr>\n",
              "    <tr>\n",
              "      <th>123766</th>\n",
              "      <td>Hay madres y padres que se quedan despiertos después de que sus hijos se hayan dormido y se preguntan cómo conseguir pagar la hipoteca o las facturas del médico, o cómo ahorrar el suficiente diner...</td>\n",
              "      <td>There are mothers and fathers who will lie awake after the children fall asleep and wonder how they'll make the mortgage, or pay their doctor's bills, or save enough for their child's college educ...</td>\n",
              "      <td>there are mothers and fathers who will lie awake after the children fall asleep and wonder how theyll make the mortgage or pay their doctors bills or save enough for their childs college education</td>\n",
              "      <td>hay madres y padres que se quedan despiertos despues de que sus hijos se hayan dormido y se preguntan como conseguir pagar la hipoteca o las facturas del medico o como ahorrar el suficiente dinero...</td>\n",
              "    </tr>\n",
              "    <tr>\n",
              "      <th>123767</th>\n",
              "      <td>Una huella de carbono es la cantidad de contaminación de dióxido de carbono que producimos como producto de nuestras actividades. Algunas personas intentan reducir su huella de carbono porque está...</td>\n",
              "      <td>A carbon footprint is the amount of carbon dioxide pollution that we produce as a result of our activities. Some people try to reduce their carbon footprint because they are concerned about climat...</td>\n",
              "      <td>a carbon footprint is the amount of carbon dioxide pollution that we produce as a result of our activities some people try to reduce their carbon footprint because they are concerned about climate...</td>\n",
              "      <td>una huella de carbono es la cantidad de contaminacion de dioxido de carbono que producimos como producto de nuestras actividades algunas personas intentan reducir su huella de carbono porque estan...</td>\n",
              "    </tr>\n",
              "    <tr>\n",
              "      <th>123768</th>\n",
              "      <td>Como suele haber varias páginas web sobre cualquier tema, normalmente sólo le doy al botón de retroceso cuando entro en una página web que tiene anuncios en ventanas emergentes. Simplemente voy a ...</td>\n",
              "      <td>Since there are usually multiple websites on any given topic, I usually just click the back button when I arrive on any webpage that has pop-up advertising. I just go to the next page found by Goo...</td>\n",
              "      <td>since there are usually multiple websites on any given topic i usually just click the back button when i arrive on any webpage that has pop up advertising i just go to the next page found by googl...</td>\n",
              "      <td>como suele haber varias paginas web sobre cualquier tema normalmente solo le doy al boton de retroceso cuando entro en una pagina web que tiene anuncios en ventanas emergentes simplemente voy a la...</td>\n",
              "    </tr>\n",
              "    <tr>\n",
              "      <th>123769</th>\n",
              "      <td>Si quieres sonar como un hablante nativo, debes estar dispuesto a practicar diciendo la misma frase una y otra vez de la misma manera en que un músico de banjo practica el mismo fraseo una y otra ...</td>\n",
              "      <td>If you want to sound like a native speaker, you must be willing to practice saying the same sentence over and over in the same way that banjo players practice the same phrase over and over until t...</td>\n",
              "      <td>if you want to sound like a native speaker you must be willing to practice saying the same sentence over and over in the same way that banjo players practice the same phrase over and over until th...</td>\n",
              "      <td>si quieres sonar como un hablante nativo debes estar dispuesto a practicar diciendo la misma frase una y otra vez de la misma manera en que un musico de banjo practica el mismo fraseo una y otra v...</td>\n",
              "    </tr>\n",
              "  </tbody>\n",
              "</table>\n",
              "</div>"
            ],
            "text/plain": [
              "                                                                                                                                                                                                            spa  ...                                                                                                                                                                                              cleaned_spa\n",
              "123765  Hay cuatro causas principales de muertes relacionadas con el alcohol. Lesión por un accidente automovilístico o violencia es una. Enfermedades como cirrosis del hígado, cáncer, enfermedades del co...  ...  hay cuatro causas principales de muertes relacionadas con el alcohol lesion por un accidente automovilistico o violencia es una enfermedades como cirrosis del higado cancer enfermedades del corazo...\n",
              "123766  Hay madres y padres que se quedan despiertos después de que sus hijos se hayan dormido y se preguntan cómo conseguir pagar la hipoteca o las facturas del médico, o cómo ahorrar el suficiente diner...  ...  hay madres y padres que se quedan despiertos despues de que sus hijos se hayan dormido y se preguntan como conseguir pagar la hipoteca o las facturas del medico o como ahorrar el suficiente dinero...\n",
              "123767  Una huella de carbono es la cantidad de contaminación de dióxido de carbono que producimos como producto de nuestras actividades. Algunas personas intentan reducir su huella de carbono porque está...  ...  una huella de carbono es la cantidad de contaminacion de dioxido de carbono que producimos como producto de nuestras actividades algunas personas intentan reducir su huella de carbono porque estan...\n",
              "123768  Como suele haber varias páginas web sobre cualquier tema, normalmente sólo le doy al botón de retroceso cuando entro en una página web que tiene anuncios en ventanas emergentes. Simplemente voy a ...  ...  como suele haber varias paginas web sobre cualquier tema normalmente solo le doy al boton de retroceso cuando entro en una pagina web que tiene anuncios en ventanas emergentes simplemente voy a la...\n",
              "123769  Si quieres sonar como un hablante nativo, debes estar dispuesto a practicar diciendo la misma frase una y otra vez de la misma manera en que un músico de banjo practica el mismo fraseo una y otra ...  ...  si quieres sonar como un hablante nativo debes estar dispuesto a practicar diciendo la misma frase una y otra vez de la misma manera en que un musico de banjo practica el mismo fraseo una y otra v...\n",
              "\n",
              "[5 rows x 4 columns]"
            ]
          },
          "metadata": {
            "tags": []
          },
          "execution_count": 141
        }
      ]
    },
    {
      "cell_type": "code",
      "metadata": {
        "id": "OhNTha9ni0ay",
        "colab_type": "code",
        "colab": {}
      },
      "source": [
        "from sklearn.model_selection import train_test_split\n",
        "x_tr,x_val,y_tr,y_val = train_test_split(data['cleaned_spa'],data['cleaned_eng'],test_size=0.2,random_state=0,shuffle=True)"
      ],
      "execution_count": 0,
      "outputs": []
    },
    {
      "cell_type": "code",
      "metadata": {
        "id": "mx4Jw9Y7jSWm",
        "colab_type": "code",
        "colab": {}
      },
      "source": [
        "x_val_original = x_val\n",
        "y_val_original = y_val\n",
        "\n",
        "x_val_original.reset_index(inplace=True, drop = True)\n",
        "y_val_original.reset_index(inplace=True, drop = True)"
      ],
      "execution_count": 0,
      "outputs": []
    },
    {
      "cell_type": "code",
      "metadata": {
        "id": "x29NrK62jzSG",
        "colab_type": "code",
        "colab": {}
      },
      "source": [
        "def build_vocab(texts):\n",
        "  sentences = texts.apply(lambda x: x.split()).values\n",
        "  vocab={}\n",
        "  for sentence in sentences:\n",
        "    for word in sentence:\n",
        "      try:\n",
        "        vocab[word]+=1\n",
        "      except KeyError:\n",
        "        vocab[word]=1\n",
        "  return vocab\n",
        "\n",
        "source_word_freq = build_vocab(x_tr)\n"
      ],
      "execution_count": 0,
      "outputs": []
    },
    {
      "cell_type": "code",
      "metadata": {
        "id": "bege8LzRmNKH",
        "colab_type": "code",
        "colab": {}
      },
      "source": [
        "#source_word_freq"
      ],
      "execution_count": 0,
      "outputs": []
    },
    {
      "cell_type": "code",
      "metadata": {
        "id": "RAxs1jEEo-zc",
        "colab_type": "code",
        "colab": {
          "base_uri": "https://localhost:8080/",
          "height": 51
        },
        "outputId": "5e164e2d-efa8-4664-bf22-67592823f325"
      },
      "source": [
        "thresh = 2\n",
        "\n",
        "cnt=0\n",
        "tot_cnt=0\n",
        "freq=0\n",
        "tot_freq=0\n",
        "\n",
        "for key,value in source_word_freq.items():\n",
        "  tot_cnt = tot_cnt+1\n",
        "  tot_freq=tot_freq+value\n",
        "\n",
        "  if value<thresh:\n",
        "    cnt=cnt+1\n",
        "    freq=freq+value\n",
        "print(\"% of words less than thresh:\", (cnt/tot_cnt)*100)\n",
        "print(\"freq of rare words:\", (freq/tot_freq) *100)\n"
      ],
      "execution_count": 146,
      "outputs": [
        {
          "output_type": "stream",
          "text": [
            "% of words less than thresh: 42.32124983680752\n",
            "freq of rare words: 1.6855733982719623\n"
          ],
          "name": "stdout"
        }
      ]
    },
    {
      "cell_type": "code",
      "metadata": {
        "id": "IaG1bXoKr1lp",
        "colab_type": "code",
        "colab": {}
      },
      "source": [
        "source_word_index={}\n",
        "\n",
        "cnt=2\n",
        "\n",
        "for key,value in source_word_freq.items():\n",
        "  if value>thresh:\n",
        "    source_word_index[key]=cnt\n",
        "    cnt+=1\n",
        "source_word_index['<pad>']=0\n",
        "source_word_index['<unk>']=1"
      ],
      "execution_count": 0,
      "outputs": []
    },
    {
      "cell_type": "code",
      "metadata": {
        "id": "7AP3ouzAtEat",
        "colab_type": "code",
        "colab": {}
      },
      "source": [
        "source_vocab=[key for key,value in source_word_index.items()]\n",
        "\n",
        "\n",
        "source_seq_tr=[]\n",
        "\n",
        "for i in x_tr:\n",
        "  seq=[]\n",
        "  for j in i.split():\n",
        "    if(j not in source_vocab):\n",
        "      seq.append(source_word_index['<unk>'])\n",
        "    elif source_word_freq[j]<thresh:\n",
        "      seq.append(source_word_index['<unk>'])\n",
        "    else:\n",
        "      seq.append(source_word_index[j])\n",
        "  source_seq_tr.append(seq)\n",
        "  \n",
        "\n"
      ],
      "execution_count": 0,
      "outputs": []
    },
    {
      "cell_type": "code",
      "metadata": {
        "id": "H03u_SmKqsYg",
        "colab_type": "code",
        "colab": {
          "base_uri": "https://localhost:8080/",
          "height": 34
        },
        "outputId": "2c57c3cc-b7a8-4c82-f228-cb0e3a495add"
      },
      "source": [
        "source_seq_tr[:5]"
      ],
      "execution_count": 149,
      "outputs": [
        {
          "output_type": "execute_result",
          "data": {
            "text/plain": [
              "[[2, 3], [4, 5, 6], [7, 8, 9, 10, 8, 11], [12, 1, 8, 9, 13, 14, 15, 16], [17]]"
            ]
          },
          "metadata": {
            "tags": []
          },
          "execution_count": 149
        }
      ]
    },
    {
      "cell_type": "code",
      "metadata": {
        "id": "KEByj5orvRRz",
        "colab_type": "code",
        "colab": {}
      },
      "source": [
        "source_seq_val=[]\n",
        "\n",
        "for i in x_val:\n",
        "  seq=[]\n",
        "  for j in i.split():\n",
        "    if(j not in source_vocab):\n",
        "      seq.append(source_word_index['<unk>'])\n",
        "    elif source_word_freq[j]<thresh:\n",
        "      seq.append(source_word_index['<unk>'])\n",
        "    else:\n",
        "      seq.append(source_word_index[j])\n",
        "  source_seq_val.append(seq)"
      ],
      "execution_count": 0,
      "outputs": []
    },
    {
      "cell_type": "code",
      "metadata": {
        "id": "tVmB0FervYnQ",
        "colab_type": "code",
        "colab": {}
      },
      "source": [
        "target_word_freq=build_vocab(y_tr)"
      ],
      "execution_count": 0,
      "outputs": []
    },
    {
      "cell_type": "code",
      "metadata": {
        "id": "UHBlBYqhv1ov",
        "colab_type": "code",
        "colab": {
          "base_uri": "https://localhost:8080/",
          "height": 51
        },
        "outputId": "a7a475f9-8375-4ecb-b5fb-975f8f9b0f2b"
      },
      "source": [
        "thresh = 2\n",
        "\n",
        "cnt=0\n",
        "tot_cnt=0\n",
        "freq=0\n",
        "tot_freq=0\n",
        "\n",
        "for key,value in target_word_freq.items():\n",
        "  tot_cnt = tot_cnt+1\n",
        "  tot_freq=tot_freq+value\n",
        "\n",
        "  if value<thresh:\n",
        "    cnt=cnt+1\n",
        "    freq=freq+value\n",
        "print(\"% of words less than thresh:\", (cnt/tot_cnt)*100)\n",
        "print(\"freq of rare words:\", (freq/tot_freq) *100)"
      ],
      "execution_count": 152,
      "outputs": [
        {
          "output_type": "stream",
          "text": [
            "% of words less than thresh: 33.87978142076503\n",
            "freq of rare words: 0.6963034233521461\n"
          ],
          "name": "stdout"
        }
      ]
    },
    {
      "cell_type": "code",
      "metadata": {
        "id": "xJ4KSxtkwAP4",
        "colab_type": "code",
        "colab": {}
      },
      "source": [
        "target_word_index={}\n",
        "\n",
        "cnt=4\n",
        "\n",
        "for key,value in target_word_freq.items():\n",
        "  if value>thresh:\n",
        "    target_word_index[key]=cnt\n",
        "    cnt+=1\n",
        "target_word_index['<pad>']=0\n",
        "target_word_index['<unk>']=1"
      ],
      "execution_count": 0,
      "outputs": []
    },
    {
      "cell_type": "code",
      "metadata": {
        "id": "HUvssabrw2LI",
        "colab_type": "code",
        "colab": {}
      },
      "source": [
        "target_vocab=[key for key,value in target_word_index.items()]\n",
        "\n",
        "\n",
        "target_seq_tr=[]\n",
        "\n",
        "for i in y_tr:\n",
        "  seq=[]\n",
        "  for j in i.split():\n",
        "    if(j not in target_vocab):\n",
        "      seq.append(target_word_index['<unk>'])\n",
        "    elif target_word_freq[j]<thresh:\n",
        "      seq.append(target_word_index['<unk>'])\n",
        "    else:\n",
        "      seq.append(target_word_index[j])\n",
        "  target_seq_tr.append(seq)\n",
        "\n",
        "\n",
        "target_seq_val=[]\n",
        "\n",
        "for i in y_val:\n",
        "  seq=[]\n",
        "  for j in i.split():\n",
        "    if(j not in target_vocab):\n",
        "      seq.append(target_word_index['<unk>'])\n",
        "    elif target_word_freq[j]<thresh:\n",
        "      seq.append(target_word_index['<unk>'])\n",
        "    else:\n",
        "      seq.append(target_word_index[j])\n",
        "  target_seq_val.append(seq)"
      ],
      "execution_count": 0,
      "outputs": []
    },
    {
      "cell_type": "code",
      "metadata": {
        "id": "YKBKPUW7yFZX",
        "colab_type": "code",
        "colab": {
          "base_uri": "https://localhost:8080/",
          "height": 281
        },
        "outputId": "f4e4425a-a709-434b-a8db-0ec2fe526dd0"
      },
      "source": [
        "eng_word_cnt=[]\n",
        "spa_word_cnt=[]\n",
        "\n",
        "\n",
        "for i in data['eng']:\n",
        "  eng_word_cnt.append(len(i.split()))\n",
        "\n",
        "for i in data['spa']:\n",
        "  spa_word_cnt.append(len(i.split()))\n",
        "\n",
        "\n",
        "length_df=pd.DataFrame({'eng':eng_word_cnt,'spa':spa_word_cnt})\n",
        "length_df.hist(bins=30)\n",
        "plt.show()\n"
      ],
      "execution_count": 155,
      "outputs": [
        {
          "output_type": "display_data",
          "data": {
            "image/png": "[encoded data removed]",
            "text/plain": [
              "<Figure size 432x288 with 2 Axes>"
            ]
          },
          "metadata": {
            "tags": [],
            "needs_background": "light"
          }
        }
      ]
    },
    {
      "cell_type": "code",
      "metadata": {
        "id": "sgA6Hspl2RfP",
        "colab_type": "code",
        "colab": {}
      },
      "source": [
        "max_eng_len=15\n",
        "max_spa_len=15"
      ],
      "execution_count": 0,
      "outputs": []
    },
    {
      "cell_type": "code",
      "metadata": {
        "id": "q09HDK4S2UvX",
        "colab_type": "code",
        "colab": {}
      },
      "source": [
        "x_tr=pad_sequences(source_seq_tr,maxlen=max_spa_len,padding='post',truncating='post')\n",
        "x_val=pad_sequences(source_seq_val,maxlen=max_spa_len,padding='post',truncating='post')\n",
        "x_voc=len(source_vocab)"
      ],
      "execution_count": 0,
      "outputs": []
    },
    {
      "cell_type": "code",
      "metadata": {
        "id": "fq1DyyER24HG",
        "colab_type": "code",
        "colab": {}
      },
      "source": [
        "y_tr_pad=pad_sequences(target_seq_tr,maxlen=max_eng_len,padding='post',truncating='post')\n",
        "y_val_pad=pad_sequences(target_seq_val,maxlen=max_eng_len,padding='post',truncating='post')"
      ],
      "execution_count": 0,
      "outputs": []
    },
    {
      "cell_type": "code",
      "metadata": {
        "id": "aTokmgg93iMv",
        "colab_type": "code",
        "colab": {}
      },
      "source": [
        "target_word_index['<start>']=2\n",
        "target_word_index['<end>']=3\n",
        "\n",
        "y_tr_start=[]\n",
        "\n",
        "for i in y_tr_pad:\n",
        "  temp = np.insert(i,0,target_word_index['<start>'])\n",
        "  y_tr_start.append(temp)\n",
        "\n",
        "y_tr=[]\n",
        "for i in y_tr_start:\n",
        "  if(0 in list(i)):\n",
        "    temp = np.insert(i,list(i).index(0),target_word_index['<end>'])\n",
        "  else:\n",
        "    temp = np.insert(i,len(i),target_word_index['<end>'])\n",
        "  y_tr.append(temp)\n",
        "\n",
        "\n",
        "y_tr=np.array(y_tr)\n",
        "\n",
        "\n"
      ],
      "execution_count": 0,
      "outputs": []
    },
    {
      "cell_type": "code",
      "metadata": {
        "id": "15HqQsiw8hL5",
        "colab_type": "code",
        "colab": {}
      },
      "source": [
        "y_voc=len(target_word_index)"
      ],
      "execution_count": 0,
      "outputs": []
    },
    {
      "cell_type": "code",
      "metadata": {
        "id": "FAM8nWzu9etJ",
        "colab_type": "code",
        "colab": {}
      },
      "source": [
        "y_val_start=[]\n",
        "\n",
        "for i in y_val_pad:\n",
        "  temp = np.insert(i,0,target_word_index['<start>'])\n",
        "  y_val_start.append(temp)\n",
        "\n",
        "y_val=[]\n",
        "for i in y_val_start:\n",
        "  if(0 in list(i)):\n",
        "    temp = np.insert(i,list(i).index(0),target_word_index['<end>'])\n",
        "  else:\n",
        "    temp = np.insert(i,len(i),target_word_index['<end>'])\n",
        "  y_val.append(temp)\n",
        "\n",
        "\n",
        "y_val=np.array(y_val)"
      ],
      "execution_count": 0,
      "outputs": []
    },
    {
      "cell_type": "code",
      "metadata": {
        "id": "MaAYsLnU97dz",
        "colab_type": "code",
        "colab": {}
      },
      "source": [
        "max_eng_len=max_eng_len+2"
      ],
      "execution_count": 0,
      "outputs": []
    },
    {
      "cell_type": "code",
      "metadata": {
        "id": "vfqssjXa-CP2",
        "colab_type": "code",
        "colab": {}
      },
      "source": [
        "latent_dim = 150\n",
        "embedding_dim= 200"
      ],
      "execution_count": 0,
      "outputs": []
    },
    {
      "cell_type": "code",
      "metadata": {
        "id": "8Hfu49GD-kR4",
        "colab_type": "code",
        "colab": {}
      },
      "source": [
        "encoder_inputs = Input(shape=(max_spa_len,))\n",
        "enc_emb = Embedding(x_voc,embedding_dim,trainable=True)(encoder_inputs)\n",
        "\n",
        "encoder_lstm = LSTM(latent_dim,return_sequences=True,return_state=True)\n",
        "encoder_outputs,state_h, state_c = encoder_lstm(enc_emb) \n"
      ],
      "execution_count": 0,
      "outputs": []
    },
    {
      "cell_type": "code",
      "metadata": {
        "id": "Y055upAlEw23",
        "colab_type": "code",
        "colab": {}
      },
      "source": [
        "decoder_inputs = Input(shape=(max_eng_len-1,))\n",
        "dec_emb_layer= Embedding(y_voc,embedding_dim,trainable=True)\n",
        "dec_emb = dec_emb_layer(decoder_inputs)\n",
        "decoder_lstm = LSTM(latent_dim,return_sequences=True,return_state=True)\n",
        "decoder_output,dec_state_h,dec_state_c = decoder_lstm(dec_emb,initial_state=[state_h,state_c])\n",
        "\n",
        "decoder_dense=TimeDistributed(Dense(y_voc,activation='softmax'))\n",
        "decoder_outputs = decoder_dense(decoder_output)\n"
      ],
      "execution_count": 0,
      "outputs": []
    },
    {
      "cell_type": "code",
      "metadata": {
        "id": "8_p3a0buHQE7",
        "colab_type": "code",
        "colab": {
          "base_uri": "https://localhost:8080/",
          "height": 445
        },
        "outputId": "f2152d4e-2ab2-4122-dd99-efdf01ed50bf"
      },
      "source": [
        "model=Model([encoder_inputs,decoder_inputs],decoder_outputs)\n",
        "model.summary()"
      ],
      "execution_count": 172,
      "outputs": [
        {
          "output_type": "stream",
          "text": [
            "Model: \"model_1\"\n",
            "__________________________________________________________________________________________________\n",
            "Layer (type)                    Output Shape         Param #     Connected to                     \n",
            "==================================================================================================\n",
            "input_5 (InputLayer)            (None, 15)           0                                            \n",
            "__________________________________________________________________________________________________\n",
            "input_7 (InputLayer)            (None, 16)           0                                            \n",
            "__________________________________________________________________________________________________\n",
            "embedding_5 (Embedding)         (None, 15, 200)      1936400     input_5[0][0]                    \n",
            "__________________________________________________________________________________________________\n",
            "embedding_7 (Embedding)         (None, 16, 200)      1273800     input_7[0][0]                    \n",
            "__________________________________________________________________________________________________\n",
            "lstm_5 (LSTM)                   [(None, 15, 150), (N 210600      embedding_5[0][0]                \n",
            "__________________________________________________________________________________________________\n",
            "lstm_7 (LSTM)                   [(None, 16, 150), (N 210600      embedding_7[0][0]                \n",
            "                                                                 lstm_5[0][1]                     \n",
            "                                                                 lstm_5[0][2]                     \n",
            "__________________________________________________________________________________________________\n",
            "time_distributed_4 (TimeDistrib (None, 16, 6369)     961719      lstm_7[0][0]                     \n",
            "==================================================================================================\n",
            "Total params: 4,593,119\n",
            "Trainable params: 4,593,119\n",
            "Non-trainable params: 0\n",
            "__________________________________________________________________________________________________\n"
          ],
          "name": "stdout"
        }
      ]
    },
    {
      "cell_type": "code",
      "metadata": {
        "id": "AhDulE5IH3So",
        "colab_type": "code",
        "colab": {}
      },
      "source": [
        "model.compile(optimizer='rmsprop',loss='sparse_categorical_crossentropy')"
      ],
      "execution_count": 0,
      "outputs": []
    },
    {
      "cell_type": "code",
      "metadata": {
        "id": "3LKkPmpaId22",
        "colab_type": "code",
        "colab": {}
      },
      "source": [
        "es = EarlyStopping(monitor='val_loss',verbose=1,patience=3,min_delta=0.0001,mode='min')\n",
        "mc= ModelCheckpoint('/best_model_v4.h5',monitor='val_loss',mode='min',verbose=1,save_best_only=True)"
      ],
      "execution_count": 0,
      "outputs": []
    },
    {
      "cell_type": "code",
      "metadata": {
        "id": "Y2gvYFQBJHH7",
        "colab_type": "code",
        "colab": {
          "base_uri": "https://localhost:8080/",
          "height": 1000
        },
        "outputId": "e0887882-4f4d-4a28-a16a-5cfa98ebaec2"
      },
      "source": [
        "history = model.fit([x_tr,y_tr[:,:-1]],y_tr.reshape(y_tr.shape[0],y_tr.shape[1],1)[:,1:],\n",
        "                    epochs=100,callbacks=[es,mc],batch_size=512,\n",
        "                    validation_data=([x_val,y_val[:,:-1]],y_val.reshape(y_val.shape[0],y_val.shape[1],1)[:,1:]))"
      ],
      "execution_count": 181,
      "outputs": [
        {
          "output_type": "stream",
          "text": [
            "Train on 94114 samples, validate on 23529 samples\n",
            "Epoch 1/100\n",
            "94114/94114 [==============================] - 562s 6ms/step - loss: 2.8865 - val_loss: 2.3460\n",
            "\n",
            "Epoch 00001: val_loss improved from inf to 2.34601, saving model to /best_model_v4.h5\n",
            "Epoch 2/100\n",
            "94114/94114 [==============================] - 561s 6ms/step - loss: 2.2344 - val_loss: 2.0791\n",
            "\n",
            "Epoch 00002: val_loss improved from 2.34601 to 2.07915, saving model to /best_model_v4.h5\n",
            "Epoch 3/100\n",
            "94114/94114 [==============================] - 568s 6ms/step - loss: 1.9855 - val_loss: 1.8929\n",
            "\n",
            "Epoch 00003: val_loss improved from 2.07915 to 1.89288, saving model to /best_model_v4.h5\n",
            "Epoch 4/100\n",
            "94114/94114 [==============================] - 556s 6ms/step - loss: 1.8275 - val_loss: 1.7725\n",
            "\n",
            "Epoch 00004: val_loss improved from 1.89288 to 1.77249, saving model to /best_model_v4.h5\n",
            "Epoch 5/100\n",
            "94114/94114 [==============================] - 557s 6ms/step - loss: 1.7107 - val_loss: 1.6776\n",
            "\n",
            "Epoch 00005: val_loss improved from 1.77249 to 1.67756, saving model to /best_model_v4.h5\n",
            "Epoch 6/100\n",
            "94114/94114 [==============================] - 554s 6ms/step - loss: 1.6151 - val_loss: 1.5946\n",
            "\n",
            "Epoch 00006: val_loss improved from 1.67756 to 1.59458, saving model to /best_model_v4.h5\n",
            "Epoch 7/100\n",
            "94114/94114 [==============================] - 557s 6ms/step - loss: 1.5288 - val_loss: 1.5196\n",
            "\n",
            "Epoch 00007: val_loss improved from 1.59458 to 1.51961, saving model to /best_model_v4.h5\n",
            "Epoch 8/100\n",
            "94114/94114 [==============================] - 558s 6ms/step - loss: 1.4484 - val_loss: 1.4467\n",
            "\n",
            "Epoch 00008: val_loss improved from 1.51961 to 1.44667, saving model to /best_model_v4.h5\n",
            "Epoch 9/100\n",
            "94114/94114 [==============================] - 556s 6ms/step - loss: 1.3709 - val_loss: 1.3842\n",
            "\n",
            "Epoch 00009: val_loss improved from 1.44667 to 1.38418, saving model to /best_model_v4.h5\n",
            "Epoch 10/100\n",
            "94114/94114 [==============================] - 564s 6ms/step - loss: 1.2971 - val_loss: 1.3260\n",
            "\n",
            "Epoch 00010: val_loss improved from 1.38418 to 1.32602, saving model to /best_model_v4.h5\n",
            "Epoch 11/100\n",
            "94114/94114 [==============================] - 557s 6ms/step - loss: 1.2286 - val_loss: 1.2724\n",
            "\n",
            "Epoch 00011: val_loss improved from 1.32602 to 1.27243, saving model to /best_model_v4.h5\n",
            "Epoch 12/100\n",
            "94114/94114 [==============================] - 554s 6ms/step - loss: 1.1634 - val_loss: 1.2196\n",
            "\n",
            "Epoch 00012: val_loss improved from 1.27243 to 1.21958, saving model to /best_model_v4.h5\n",
            "Epoch 13/100\n",
            "94114/94114 [==============================] - 557s 6ms/step - loss: 1.1026 - val_loss: 1.1767\n",
            "\n",
            "Epoch 00013: val_loss improved from 1.21958 to 1.17674, saving model to /best_model_v4.h5\n",
            "Epoch 14/100\n",
            "94114/94114 [==============================] - 558s 6ms/step - loss: 1.0453 - val_loss: 1.1425\n",
            "\n",
            "Epoch 00014: val_loss improved from 1.17674 to 1.14246, saving model to /best_model_v4.h5\n",
            "Epoch 15/100\n",
            "94114/94114 [==============================] - 555s 6ms/step - loss: 0.9918 - val_loss: 1.0978\n",
            "\n",
            "Epoch 00015: val_loss improved from 1.14246 to 1.09779, saving model to /best_model_v4.h5\n",
            "Epoch 16/100\n",
            "94114/94114 [==============================] - 565s 6ms/step - loss: 0.9416 - val_loss: 1.0614\n",
            "\n",
            "Epoch 00016: val_loss improved from 1.09779 to 1.06144, saving model to /best_model_v4.h5\n",
            "Epoch 17/100\n",
            "94114/94114 [==============================] - 560s 6ms/step - loss: 0.8953 - val_loss: 1.0383\n",
            "\n",
            "Epoch 00017: val_loss improved from 1.06144 to 1.03827, saving model to /best_model_v4.h5\n",
            "Epoch 18/100\n",
            "94114/94114 [==============================] - 561s 6ms/step - loss: 0.8524 - val_loss: 1.0078\n",
            "\n",
            "Epoch 00018: val_loss improved from 1.03827 to 1.00785, saving model to /best_model_v4.h5\n",
            "Epoch 19/100\n",
            "94114/94114 [==============================] - 564s 6ms/step - loss: 0.8123 - val_loss: 0.9875\n",
            "\n",
            "Epoch 00019: val_loss improved from 1.00785 to 0.98745, saving model to /best_model_v4.h5\n",
            "Epoch 20/100\n",
            "94114/94114 [==============================] - 558s 6ms/step - loss: 0.7759 - val_loss: 0.9661\n",
            "\n",
            "Epoch 00020: val_loss improved from 0.98745 to 0.96612, saving model to /best_model_v4.h5\n",
            "Epoch 21/100\n",
            "94114/94114 [==============================] - 556s 6ms/step - loss: 0.7420 - val_loss: 0.9467\n",
            "\n",
            "Epoch 00021: val_loss improved from 0.96612 to 0.94674, saving model to /best_model_v4.h5\n",
            "Epoch 22/100\n",
            "94114/94114 [==============================] - 554s 6ms/step - loss: 0.7108 - val_loss: 0.9336\n",
            "\n",
            "Epoch 00022: val_loss improved from 0.94674 to 0.93360, saving model to /best_model_v4.h5\n",
            "Epoch 23/100\n",
            "94114/94114 [==============================] - 568s 6ms/step - loss: 0.6817 - val_loss: 0.9187\n",
            "\n",
            "Epoch 00023: val_loss improved from 0.93360 to 0.91868, saving model to /best_model_v4.h5\n",
            "Epoch 24/100\n",
            "94114/94114 [==============================] - 554s 6ms/step - loss: 0.6544 - val_loss: 0.9088\n",
            "\n",
            "Epoch 00024: val_loss improved from 0.91868 to 0.90876, saving model to /best_model_v4.h5\n",
            "Epoch 25/100\n",
            "94114/94114 [==============================] - 556s 6ms/step - loss: 0.6290 - val_loss: 0.9056\n",
            "\n",
            "Epoch 00025: val_loss improved from 0.90876 to 0.90564, saving model to /best_model_v4.h5\n",
            "Epoch 26/100\n",
            "94114/94114 [==============================] - 570s 6ms/step - loss: 0.6053 - val_loss: 0.8938\n",
            "\n",
            "Epoch 00026: val_loss improved from 0.90564 to 0.89381, saving model to /best_model_v4.h5\n",
            "Epoch 27/100\n",
            "94114/94114 [==============================] - 564s 6ms/step - loss: 0.5825 - val_loss: 0.8877\n",
            "\n",
            "Epoch 00027: val_loss improved from 0.89381 to 0.88767, saving model to /best_model_v4.h5\n",
            "Epoch 28/100\n",
            "94114/94114 [==============================] - 565s 6ms/step - loss: 0.5616 - val_loss: 0.8849\n",
            "\n",
            "Epoch 00028: val_loss improved from 0.88767 to 0.88488, saving model to /best_model_v4.h5\n",
            "Epoch 29/100\n",
            "94114/94114 [==============================] - 570s 6ms/step - loss: 0.5415 - val_loss: 0.8828\n",
            "\n",
            "Epoch 00029: val_loss improved from 0.88488 to 0.88281, saving model to /best_model_v4.h5\n",
            "Epoch 30/100\n",
            "94114/94114 [==============================] - 557s 6ms/step - loss: 0.5226 - val_loss: 0.8801\n",
            "\n",
            "Epoch 00030: val_loss improved from 0.88281 to 0.88013, saving model to /best_model_v4.h5\n",
            "Epoch 31/100\n",
            "94114/94114 [==============================] - 557s 6ms/step - loss: 0.5047 - val_loss: 0.8757\n",
            "\n",
            "Epoch 00031: val_loss improved from 0.88013 to 0.87567, saving model to /best_model_v4.h5\n",
            "Epoch 32/100\n",
            "94114/94114 [==============================] - 566s 6ms/step - loss: 0.4878 - val_loss: 0.8750\n",
            "\n",
            "Epoch 00032: val_loss improved from 0.87567 to 0.87498, saving model to /best_model_v4.h5\n",
            "Epoch 33/100\n",
            "94114/94114 [==============================] - 563s 6ms/step - loss: 0.4716 - val_loss: 0.8713\n",
            "\n",
            "Epoch 00033: val_loss improved from 0.87498 to 0.87127, saving model to /best_model_v4.h5\n",
            "Epoch 34/100\n",
            "94114/94114 [==============================] - 558s 6ms/step - loss: 0.4564 - val_loss: 0.8700\n",
            "\n",
            "Epoch 00034: val_loss improved from 0.87127 to 0.87001, saving model to /best_model_v4.h5\n",
            "Epoch 35/100\n",
            "94114/94114 [==============================] - 561s 6ms/step - loss: 0.4418 - val_loss: 0.8713\n",
            "\n",
            "Epoch 00035: val_loss did not improve from 0.87001\n",
            "Epoch 36/100\n",
            "94114/94114 [==============================] - 557s 6ms/step - loss: 0.4280 - val_loss: 0.8691\n",
            "\n",
            "Epoch 00036: val_loss improved from 0.87001 to 0.86909, saving model to /best_model_v4.h5\n",
            "Epoch 37/100\n",
            "94114/94114 [==============================] - 554s 6ms/step - loss: 0.4148 - val_loss: 0.8730\n",
            "\n",
            "Epoch 00037: val_loss did not improve from 0.86909\n",
            "Epoch 38/100\n",
            "94114/94114 [==============================] - 562s 6ms/step - loss: 0.4020 - val_loss: 0.8759\n",
            "\n",
            "Epoch 00038: val_loss did not improve from 0.86909\n",
            "Epoch 39/100\n",
            "94114/94114 [==============================] - 560s 6ms/step - loss: 0.3897 - val_loss: 0.8815\n",
            "\n",
            "Epoch 00039: val_loss did not improve from 0.86909\n",
            "Epoch 00039: early stopping\n"
          ],
          "name": "stdout"
        }
      ]
    },
    {
      "cell_type": "code",
      "metadata": {
        "id": "uTrePBvpRoZV",
        "colab_type": "code",
        "colab": {}
      },
      "source": [
        "model = load_model(\"/best_model_v4.h5\")\n",
        "model.save_weights('/best_model_weights_v4.h5')"
      ],
      "execution_count": 0,
      "outputs": []
    }
  ]
}